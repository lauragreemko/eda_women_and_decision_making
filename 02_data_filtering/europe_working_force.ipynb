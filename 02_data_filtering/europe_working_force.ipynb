{
 "cells": [
  {
   "cell_type": "code",
   "execution_count": 1,
   "metadata": {},
   "outputs": [],
   "source": [
    "import pandas as pd\n",
    "import numpy as np\n",
    "\n",
    "import warnings\n",
    "warnings.simplefilter(\"ignore\")"
   ]
  },
  {
   "cell_type": "code",
   "execution_count": 2,
   "metadata": {},
   "outputs": [],
   "source": [
    "# Total\n",
    "europe_worker_force_total = pd.read_excel('../01_data_collection/europe_worker_force.xlsx', 'Sheet 1', dtype=str)\n",
    "\n",
    "# Managers\n",
    "europe_worker_force_managers = pd.read_excel('../01_data_collection/europe_worker_force.xlsx', 'Sheet 2', dtype=str)\n",
    "\n",
    "# Professionals\n",
    "europe_worker_force_professionals = pd.read_excel('../01_data_collection/europe_worker_force.xlsx', 'Sheet 3', dtype=str)\n",
    "\n",
    "# Technicians and associate professionals\n",
    "europe_worker_force_technicians = pd.read_excel('../01_data_collection/europe_worker_force.xlsx', 'Sheet 4', dtype=str)\n",
    "\n",
    "# Clerical support workers\n",
    "europe_worker_force_clerical_support = pd.read_excel('../01_data_collection/europe_worker_force.xlsx', 'Sheet 5', dtype=str)"
   ]
  },
  {
   "cell_type": "code",
   "execution_count": 3,
   "metadata": {},
   "outputs": [],
   "source": [
    "def clean_database(df):\n",
    "\n",
    "    # We get the rows which contain the information we want to use\n",
    "    df = df.drop(range(0, 11))\n",
    "    df = df.drop(range(50, 57))\n",
    "\n",
    "    # This will replace all the cells with invalid characters with a NaN\n",
    "    df.replace({':': np.nan, 'd': np.nan, 'b': np.nan}, inplace=True)\n",
    "\n",
    "    # This will remove columns with more than 50% Nan\n",
    "    df = df.loc[:, df.isnull().mean() < .5]\n",
    "\n",
    "    # This will create a dictionary to rename all the columns\n",
    "    columns_dict_keys = df.columns.tolist()\n",
    "    columns_dict_values = ['Country','2019_total', '2019_males', '2019_females', '2020_Q1_total', '2020_Q1_males', '2020_Q1_females', '2020_Q2_total', '2020_Q2_males', '2020_Q2_females', '2020_Q3_total', '2020_Q3_males', '2020_Q3_females', '2020_Q4_total', '2020_Q4_males', '2020_Q4_females', '2021_Q1_total', '2021_Q1_males', '2021_Q1_females', '2021_Q2_total', '2021_Q2_males', '2021_Q2_females', '2021_Q3_total', '2021_Q3_males', '2021_Q3_females', '2021_Q4_total', '2021_Q4_males', '2021_Q4_females', '2022_total', '2022_males', '2022_females']\n",
    "    columns_rename_dict = dict(zip(columns_dict_keys, columns_dict_values))\n",
    "    df.rename(columns=columns_rename_dict, inplace=True)\n",
    "\n",
    "    # This will convert all the columns to numeric except 'Country'\n",
    "    cols = df.columns.drop('Country')\n",
    "    df[cols] = df[cols].apply(pd.to_numeric, errors='coerce')\n",
    "\n",
    "    # This will merge all the quarter values into a new column with the equivalent mean for the year\n",
    "    total_2020 = ['2020_Q1_total', '2020_Q2_total', '2020_Q3_total', '2020_Q4_total']\n",
    "    males_2020 =  ['2020_Q1_males', '2020_Q2_males', '2020_Q3_males', '2020_Q4_males']\n",
    "    females_2020 = ['2020_Q1_females', '2020_Q2_females', '2020_Q3_females', '2020_Q4_females']\n",
    "    total_2021 = ['2021_Q1_total', '2021_Q2_total', '2021_Q3_total', '2021_Q4_total']\n",
    "    males_2021 = ['2021_Q1_males', '2021_Q2_males', '2021_Q3_males', '2021_Q4_males']\n",
    "    females_2021 = ['2021_Q1_females', '2021_Q2_females', '2021_Q3_females', '2021_Q4_females']\n",
    "    \n",
    "    df['2020_total'] = df[total_2020].mean(axis=1)\n",
    "    df['2020_males'] = df[males_2020].mean(axis=1)\n",
    "    df['2020_females'] = df[females_2020].mean(axis=1)\n",
    "    df['2021_total'] = df[total_2021].mean(axis=1)\n",
    "    df['2021_males'] = df[males_2021].mean(axis=1)\n",
    "    df['2021_females'] = df[females_2021].mean(axis=1)\n",
    "\n",
    "    # We drop all the quarter columns we've assigned to variables before\n",
    "    new_list = total_2020 + males_2020 + females_2020 + total_2021 + males_2021 + females_2021\n",
    "    df.drop((new_list), axis=1, inplace=True)\n",
    "\n",
    "    # We resort the columns and assing 'Country to the first one\n",
    "    df.sort_index(axis=1, inplace=True)\n",
    "    first_column = df.pop('Country')\n",
    "    df.insert(0, 'Country', first_column)\n",
    "  \n",
    "    return df"
   ]
  },
  {
   "cell_type": "code",
   "execution_count": 4,
   "metadata": {},
   "outputs": [],
   "source": [
    "europe_worker_force_total = clean_database(europe_worker_force_total)\n",
    "europe_worker_force_managers = clean_database(europe_worker_force_managers)\n",
    "europe_worker_force_professionals = clean_database(europe_worker_force_professionals)\n",
    "europe_worker_force_technicians = clean_database(europe_worker_force_technicians)\n",
    "europe_worker_force_clerical_support = clean_database(europe_worker_force_clerical_support)"
   ]
  },
  {
   "cell_type": "code",
   "execution_count": 6,
   "metadata": {},
   "outputs": [],
   "source": [
    "# We drop two extra rows from two of the dataframes\n",
    "europe_worker_force_managers.drop(range(39, 40), inplace=True)\n",
    "europe_worker_force_clerical_support.drop(range(39, 40), inplace=True)"
   ]
  },
  {
   "cell_type": "code",
   "execution_count": 8,
   "metadata": {},
   "outputs": [],
   "source": [
    "europe_worker_force_total.to_csv('../03_filtered_data/europe_worker_force_total.csv', index = False)\n",
    "europe_worker_force_managers.to_csv('../03_filtered_data/europe_worker_force_managers.csv', index = False)\n",
    "europe_worker_force_professionals.to_csv('../03_filtered_data/europe_worker_force_professionals.csv', index = False)\n",
    "europe_worker_force_technicians.to_csv('../03_filtered_data/europe_worker_force_technicians.csv', index = False)\n",
    "europe_worker_force_clerical_support.to_csv('../03_filtered_data/europe_worker_clerical_support.csv', index = False)"
   ]
  },
  {
   "cell_type": "code",
   "execution_count": null,
   "metadata": {},
   "outputs": [],
   "source": []
  }
 ],
 "metadata": {
  "kernelspec": {
   "display_name": "Python 3.7.4 64-bit",
   "language": "python",
   "name": "python3"
  },
  "language_info": {
   "codemirror_mode": {
    "name": "ipython",
    "version": 3
   },
   "file_extension": ".py",
   "mimetype": "text/x-python",
   "name": "python",
   "nbconvert_exporter": "python",
   "pygments_lexer": "ipython3",
   "version": "3.7.4"
  },
  "orig_nbformat": 4,
  "vscode": {
   "interpreter": {
    "hash": "aee8b7b246df8f9039afb4144a1f6fd8d2ca17a180786b69acc140d282b71a49"
   }
  }
 },
 "nbformat": 4,
 "nbformat_minor": 2
}
